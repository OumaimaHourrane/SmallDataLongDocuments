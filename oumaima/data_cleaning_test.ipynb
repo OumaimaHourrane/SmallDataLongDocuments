{
 "cells": [
  {
   "cell_type": "markdown",
   "metadata": {
    "hideCode": false
   },
   "source": [
    "# Data Exploration v0"
   ]
  },
  {
   "cell_type": "code",
   "execution_count": 9,
   "metadata": {},
   "outputs": [
    {
     "name": "stdout",
     "output_type": "stream",
     "text": [
      "raw data shape: (1000, 99)\n",
      "only entries with PIMS ID: (850, 99)\n",
      "only columns with entries: (850, 89)\n",
      "with title: (824, 89)\n",
      "with description: (554, 2)\n"
     ]
    }
   ],
   "source": [
    "import os\n",
    "import sys\n",
    "import clean_dataset as cl\n",
    "import pandas as pd\n",
    "\n",
    "'''import and process taxonomy from excel'''\n",
    "taxonomy = pd.read_excel (os.path.abspath(os.path.join('..', 'data/raw'))+'/tagging_table.xlsx')\n",
    "# get column names:\n",
    "columnNames = taxonomy.iloc[0] \n",
    "taxonomy = taxonomy[1:] \n",
    "taxonomy.columns = columnNames\n",
    "print('raw data shape:', taxonomy.shape)\n",
    "# delete entries without PIMS ID:\n",
    "taxonomy = taxonomy[taxonomy['PIMS #'].notna()]      \n",
    "print('only entries with PIMS ID:', taxonomy.shape)                \n",
    "# delete columns without names:\n",
    "taxonomy = taxonomy.loc[:, taxonomy.columns.notnull()]   \n",
    "print('only columns with entries:', taxonomy.shape)                \n",
    "# remove white spaces in column names and lowercase names:\n",
    "taxonomy.columns = taxonomy.columns.str.replace(' ', '_').str.lower()\n",
    "#%%\n",
    "'''extract relevant data fields''' \n",
    "#remove all projects without titles:\n",
    "taxonomy = taxonomy[taxonomy['title'].notna()]     \n",
    "print('with title:', taxonomy.shape)\n",
    "\n",
    "#keep only projects with description:\n",
    "description = taxonomy[taxonomy['project_description'].notna()]     \n",
    "description = description[['pims_#', 'project_description']]\n",
    "print('with description:', description.shape)\n"
   ]
  },
  {
   "cell_type": "code",
   "execution_count": 10,
   "metadata": {},
   "outputs": [],
   "source": [
    "cl.clean(description, description['project_description'])\n",
    "cl.segment(description, description['project_description'])"
   ]
  },
  {
   "cell_type": "code",
   "execution_count": 11,
   "metadata": {},
   "outputs": [
    {
     "data": {
      "text/plain": [
       "Index(['pims_#', 'project_description', 'new_cleaned_column',\n",
       "       'list_sentences'],\n",
       "      dtype='object', name=0)"
      ]
     },
     "execution_count": 11,
     "metadata": {},
     "output_type": "execute_result"
    }
   ],
   "source": [
    "description.columns"
   ]
  },
  {
   "cell_type": "code",
   "execution_count": 12,
   "metadata": {},
   "outputs": [
    {
     "data": {
      "text/plain": [
       "<bound method NDFrame.head of 2      this programme will contribute to the protecti...\n",
       "4      the project contributes to the number of gef p...\n",
       "5      the cape floristic region cfr biodiversity hot...\n",
       "6                                                   None\n",
       "7      the government of south africa has developed t...\n",
       "                             ...                        \n",
       "838    the overall objective of the project is to red...\n",
       "839                                                 None\n",
       "840    the gef cofinanced project will comprise three...\n",
       "841    the project aims to develop and institutionali...\n",
       "849    this project focuses on realizing the conditio...\n",
       "Name: new_cleaned_column, Length: 554, dtype: object>"
      ]
     },
     "execution_count": 12,
     "metadata": {},
     "output_type": "execute_result"
    }
   ],
   "source": [
    "description.new_cleaned_column.head"
   ]
  },
  {
   "cell_type": "code",
   "execution_count": 13,
   "metadata": {},
   "outputs": [
    {
     "data": {
      "text/plain": [
       "<bound method NDFrame.head of 2      [This programme will contribute to the protect...\n",
       "4      [The project contributes to the number of GEF ...\n",
       "5      [The Cape Floristic Region (CFR) Biodiversity ...\n",
       "6      [The Niger Delta region of Nigeria, covering a...\n",
       "7      [The Government of South Africa has developed ...\n",
       "                             ...                        \n",
       "838    [The Overall Objective of the project is to re...\n",
       "839    [In line with guidance for the LDCF, (GEF/C.28...\n",
       "840    [The GEF co-financed project will comprise thr...\n",
       "841    [The project aims to develop and institutional...\n",
       "849    [This project focuses on realizing the conditi...\n",
       "Name: list_sentences, Length: 554, dtype: object>"
      ]
     },
     "execution_count": 13,
     "metadata": {},
     "output_type": "execute_result"
    }
   ],
   "source": [
    "description.list_sentences.head"
   ]
  }
 ],
 "metadata": {
  "kernelspec": {
   "display_name": "Python 3",
   "language": "python",
   "name": "python3"
  },
  "language_info": {
   "codemirror_mode": {
    "name": "ipython",
    "version": 3
   },
   "file_extension": ".py",
   "mimetype": "text/x-python",
   "name": "python",
   "nbconvert_exporter": "python",
   "pygments_lexer": "ipython3",
   "version": "3.6.9"
  }
 },
 "nbformat": 4,
 "nbformat_minor": 4
}
